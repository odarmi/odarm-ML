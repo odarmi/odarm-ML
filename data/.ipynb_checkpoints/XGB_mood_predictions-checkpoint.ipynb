{
 "cells": [
  {
   "cell_type": "code",
   "execution_count": 1,
   "metadata": {},
   "outputs": [],
   "source": [
    "import pandas as pd\n",
    "import numpy as np\n",
    "import matplotlib.pyplot as plt\n",
    "import seaborn as sns\n",
    "from xgboost import XGBClassifier\n",
    "from sklearn.multiclass import OneVsRestClassifier\n",
    "from sklearn.model_selection import train_test_split\n",
    "from sklearn.metrics import confusion_matrix\n",
    "from sklearn import preprocessing"
   ]
  },
  {
   "cell_type": "code",
   "execution_count": 2,
   "metadata": {},
   "outputs": [],
   "source": [
    "def df_encode(df):\n",
    "        le  = preprocessing.LabelEncoder()\n",
    "        ohe = preprocessing.OneHotEncoder(sparse=False)\n",
    "\n",
    "        le.fit(df)\n",
    "        np_ = le.fit_transform(df)\n",
    "        np_ = np_.reshape((len(np_),1))\n",
    "        ohe.fit(np_)\n",
    "        np_ = ohe.fit_transform(np_)\n",
    "        df  = pd.DataFrame(np_)\n",
    "        return df, le, ohe"
   ]
  },
  {
   "cell_type": "code",
   "execution_count": 4,
   "metadata": {},
   "outputs": [],
   "source": [
    "def df_transform(df, le, ohe):\n",
    "        return pd.DataFrame(ohe.transform(le.transform(df).reshape(len(df),1)))"
   ]
  },
  {
   "cell_type": "code",
   "execution_count": null,
   "metadata": {},
   "outputs": [],
   "source": []
  }
 ],
 "metadata": {
  "kernelspec": {
   "display_name": "Python 2",
   "language": "python",
   "name": "python2"
  },
  "language_info": {
   "codemirror_mode": {
    "name": "ipython",
    "version": 2
   },
   "file_extension": ".py",
   "mimetype": "text/x-python",
   "name": "python",
   "nbconvert_exporter": "python",
   "pygments_lexer": "ipython2",
   "version": "2.7.12"
  }
 },
 "nbformat": 4,
 "nbformat_minor": 2
}
